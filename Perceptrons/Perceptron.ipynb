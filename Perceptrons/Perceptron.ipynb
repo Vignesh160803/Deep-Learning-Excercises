{
 "cells": [
  {
   "cell_type": "markdown",
   "metadata": {},
   "source": [
    "## Perceptron for OR GATE"
   ]
  },
  {
   "cell_type": "code",
   "execution_count": 12,
   "metadata": {},
   "outputs": [],
   "source": [
    "inputs = [[0,0],[0,1],[1,0],[1,1]]\n",
    "outputs = [0,0,0,1]\n",
    "weights = [1,1]\n",
    "eta = 0.1\n",
    "bias = -1"
   ]
  },
  {
   "cell_type": "code",
   "execution_count": 13,
   "metadata": {},
   "outputs": [],
   "source": [
    "def activation(value):\n",
    "    return 1 if value >= 0 else 0\n",
    "\n",
    "def weightedSum(inputs, weights, bias):\n",
    "    return sum([i * w for i, w in zip(inputs, weights)]) + bias\n",
    "\n",
    "def updateWeights(inputs, outputs, eta, bias, weights):\n",
    "    error = outputs - activation(weightedSum(inputs, weights, bias))\n",
    "    weights = [w + eta * error * i for i, w in zip(inputs, weights)]\n",
    "    bias = bias + eta * error\n",
    "    return weights, bias\n",
    "\n",
    "def perceptron(epochs, inputs, outputs, eta, bias, weights):\n",
    "    for i in range(epochs):\n",
    "        for j in range(len(inputs)):\n",
    "            weights, bias = updateWeights(inputs[j], outputs[j], eta, bias, weights)\n",
    "    return weights, bias"
   ]
  },
  {
   "cell_type": "code",
   "execution_count": 18,
   "metadata": {},
   "outputs": [
    {
     "name": "stdout",
     "output_type": "stream",
     "text": [
      "[1.0, 0.9] -1.1\n"
     ]
    }
   ],
   "source": [
    "w,b = perceptron(2,inputs,outputs,eta,bias,weights)\n",
    "print(w,b)"
   ]
  }
 ],
 "metadata": {
  "kernelspec": {
   "display_name": "Python 3",
   "language": "python",
   "name": "python3"
  },
  "language_info": {
   "codemirror_mode": {
    "name": "ipython",
    "version": 3
   },
   "file_extension": ".py",
   "mimetype": "text/x-python",
   "name": "python",
   "nbconvert_exporter": "python",
   "pygments_lexer": "ipython3",
   "version": "3.11.2"
  }
 },
 "nbformat": 4,
 "nbformat_minor": 2
}
